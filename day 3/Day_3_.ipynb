{
  "nbformat": 4,
  "nbformat_minor": 0,
  "metadata": {
    "colab": {
      "provenance": []
    },
    "kernelspec": {
      "name": "python3",
      "display_name": "Python 3"
    },
    "language_info": {
      "name": "python"
    }
  },
  "cells": [
    {
      "cell_type": "markdown",
      "source": [
        "Write a progrsm to find sum of digits of a given number."
      ],
      "metadata": {
        "id": "W4dxlXbBb4cA"
      }
    },
    {
      "cell_type": "code",
      "source": [
        "num=1234\n",
        "sum=0\n",
        "while num!=0:\n",
        "  e=num%10\n",
        "  num=num//10\n",
        "  sum+=e\n",
        "print(sum)"
      ],
      "metadata": {
        "colab": {
          "base_uri": "https://localhost:8080/"
        },
        "id": "eLYjtSaycCFd",
        "outputId": "5839383e-a114-401f-aaf9-a0acf3430afa"
      },
      "execution_count": 3,
      "outputs": [
        {
          "output_type": "stream",
          "name": "stdout",
          "text": [
            "10\n"
          ]
        }
      ]
    },
    {
      "cell_type": "markdown",
      "source": [
        "Write a program to find the factorial of a number using a loop."
      ],
      "metadata": {
        "id": "ND0brdZmcwRl"
      }
    },
    {
      "cell_type": "code",
      "execution_count": 6,
      "metadata": {
        "colab": {
          "base_uri": "https://localhost:8080/"
        },
        "id": "Ew3e4jn5buAs",
        "outputId": "27de2bbb-34a8-46a0-e18b-ecb9f93438bf"
      },
      "outputs": [
        {
          "output_type": "stream",
          "name": "stdout",
          "text": [
            "120\n"
          ]
        }
      ],
      "source": [
        "fact=1\n",
        "num=5\n",
        "for i in range(1,num+1,1):\n",
        "  fact=fact*i\n",
        "print(fact)"
      ]
    },
    {
      "cell_type": "markdown",
      "source": [
        "Write a program to reverse the number."
      ],
      "metadata": {
        "id": "c_TLenSedetX"
      }
    },
    {
      "cell_type": "code",
      "source": [
        "num=123456\n",
        "rev=0\n",
        "while num!=0:\n",
        "  e=num%10\n",
        "  num=num//10\n",
        "  rev=rev*10\n",
        "  rev=rev+e\n",
        "print(rev)"
      ],
      "metadata": {
        "colab": {
          "base_uri": "https://localhost:8080/"
        },
        "id": "a3RMkSuTdjkU",
        "outputId": "f3fcdf7f-4d6c-43d2-9db7-efea94d0796b"
      },
      "execution_count": 7,
      "outputs": [
        {
          "output_type": "stream",
          "name": "stdout",
          "text": [
            "654321\n"
          ]
        }
      ]
    },
    {
      "cell_type": "markdown",
      "source": [
        "Patterns"
      ],
      "metadata": {
        "id": "dw0Fz7-Gd7xI"
      }
    },
    {
      "cell_type": "code",
      "source": [
        "n=5\n",
        "for i in range(1,n+1,1):\n",
        "  for j in range(1,n+1,1):\n",
        "    print(\"*\",end=\" \")\n",
        "  print()"
      ],
      "metadata": {
        "colab": {
          "base_uri": "https://localhost:8080/"
        },
        "id": "JT6zK_UreDDj",
        "outputId": "9e9e9a2d-abdf-4e73-fa45-48d42f622d1d"
      },
      "execution_count": 8,
      "outputs": [
        {
          "output_type": "stream",
          "name": "stdout",
          "text": [
            "* * * * * \n",
            "* * * * * \n",
            "* * * * * \n",
            "* * * * * \n",
            "* * * * * \n"
          ]
        }
      ]
    },
    {
      "cell_type": "code",
      "source": [
        "n=5\n",
        "for i in range(1,n+1,1):\n",
        "  for j in range(1,n+1,1):\n",
        "    print(i,end=\" \")\n",
        "  print()"
      ],
      "metadata": {
        "colab": {
          "base_uri": "https://localhost:8080/"
        },
        "id": "elN4JRGTeYzB",
        "outputId": "6d871d59-e6f5-439f-bb97-679fcac21736"
      },
      "execution_count": 9,
      "outputs": [
        {
          "output_type": "stream",
          "name": "stdout",
          "text": [
            "1 1 1 1 1 \n",
            "2 2 2 2 2 \n",
            "3 3 3 3 3 \n",
            "4 4 4 4 4 \n",
            "5 5 5 5 5 \n"
          ]
        }
      ]
    },
    {
      "cell_type": "code",
      "source": [
        "n=5\n",
        "a=65\n",
        "for i in range(1,n+1,1):\n",
        "  for j in range(1,n+1,1):\n",
        "    print(chr(a),end=\" \")\n",
        "  a+=1\n",
        "  print()"
      ],
      "metadata": {
        "colab": {
          "base_uri": "https://localhost:8080/"
        },
        "id": "VVF32x5NefqH",
        "outputId": "97c31685-5d48-4029-bf42-c1e927366516"
      },
      "execution_count": 10,
      "outputs": [
        {
          "output_type": "stream",
          "name": "stdout",
          "text": [
            "A A A A A \n",
            "B B B B B \n",
            "C C C C C \n",
            "D D D D D \n",
            "E E E E E \n"
          ]
        }
      ]
    }
  ]
}