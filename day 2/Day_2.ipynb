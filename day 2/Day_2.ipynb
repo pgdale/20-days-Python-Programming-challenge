{
  "nbformat": 4,
  "nbformat_minor": 0,
  "metadata": {
    "colab": {
      "provenance": []
    },
    "kernelspec": {
      "name": "python3",
      "display_name": "Python 3"
    },
    "language_info": {
      "name": "python"
    }
  },
  "cells": [
    {
      "cell_type": "markdown",
      "source": [
        "Write a Python Programming to find the samllest among three numbers"
      ],
      "metadata": {
        "id": "bEgWeRfuYtMS"
      }
    },
    {
      "cell_type": "code",
      "execution_count": 1,
      "metadata": {
        "colab": {
          "base_uri": "https://localhost:8080/"
        },
        "id": "Z5Po7MnyYqns",
        "outputId": "e9009183-6072-43da-907c-37ce776e5234"
      },
      "outputs": [
        {
          "output_type": "stream",
          "name": "stdout",
          "text": [
            "Enter fisrt number:29\n",
            "Enter second number:20\n",
            "Enter third number:25\n",
            "20 The smallest number is.\n"
          ]
        }
      ],
      "source": [
        "a=int(input(\"Enter fisrt number:\"))\n",
        "b=int(input(\"Enter second number:\"))\n",
        "c=int(input(\"Enter third number:\"))\n",
        "if a<=b and a<=c:\n",
        "  print(a,\"The smallest number is.\")\n",
        "elif b<=a and b<=c:\n",
        "  print(b,\"The smallest number is.\")\n",
        "else:\n",
        "  print(c,\"The smallest number is.\")"
      ]
    },
    {
      "cell_type": "markdown",
      "source": [
        "Write a Python Programming to Swap 2 numbers(using Arithmetic Operation)"
      ],
      "metadata": {
        "id": "4Nd1TdGLaR_G"
      }
    },
    {
      "cell_type": "code",
      "source": [
        "a=100\n",
        "b=300\n",
        "a=a+b\n",
        "b=a-b\n",
        "a=a-b\n",
        "print(f\"a:{a}\")\n",
        "print(f\"b:{b}\")"
      ],
      "metadata": {
        "colab": {
          "base_uri": "https://localhost:8080/"
        },
        "id": "XIWf5B_oatwm",
        "outputId": "121dc703-60f1-44cd-d1c0-b89e9ab96fa4"
      },
      "execution_count": 2,
      "outputs": [
        {
          "output_type": "stream",
          "name": "stdout",
          "text": [
            "a:300\n",
            "b:100\n"
          ]
        }
      ]
    },
    {
      "cell_type": "markdown",
      "source": [
        "Write a Python Programming to check whether a person is eligible to vote or not."
      ],
      "metadata": {
        "id": "OqQ-II59bSbn"
      }
    },
    {
      "cell_type": "code",
      "source": [
        "age=int(input(\"Enter age: \"))\n",
        "if age>=18:\n",
        "  print(\"ELigible to vote\")\n",
        "else:\n",
        "  print(\"Not eligible to vote\")"
      ],
      "metadata": {
        "colab": {
          "base_uri": "https://localhost:8080/"
        },
        "id": "eK_KCbWHbZ3J",
        "outputId": "9c818acc-34b3-4360-dd70-d19ee158559f"
      },
      "execution_count": 3,
      "outputs": [
        {
          "output_type": "stream",
          "name": "stdout",
          "text": [
            "Enter age: 19\n",
            "ELigible to vote\n"
          ]
        }
      ]
    },
    {
      "cell_type": "markdown",
      "source": [
        "Write a Python Programming  to check whether a given year is a leap year or not.\n"
      ],
      "metadata": {
        "id": "cwkwuAoAbvUa"
      }
    },
    {
      "cell_type": "code",
      "source": [
        "year=int(input(\"year: \"))\n",
        "if (year%4==0 and year%100!=0) or (year%400==0):\n",
        "  print(\"Leap year\")\n",
        "else:\n",
        "  print(\"Not a Leap year\")"
      ],
      "metadata": {
        "colab": {
          "base_uri": "https://localhost:8080/"
        },
        "id": "TRseu82JcCo5",
        "outputId": "6cb4530c-7a45-45cb-a85a-c1c72b191f91"
      },
      "execution_count": 4,
      "outputs": [
        {
          "output_type": "stream",
          "name": "stdout",
          "text": [
            "year: 2004\n",
            "Leap year\n"
          ]
        }
      ]
    },
    {
      "cell_type": "markdown",
      "source": [
        "Write a Python Programming to check whether a number is positive,negative or zero"
      ],
      "metadata": {
        "id": "icfVSSiGc-qy"
      }
    },
    {
      "cell_type": "code",
      "source": [
        "n=int(input(\"N: \"))\n",
        "if n>0:\n",
        "  print(\"Postive Number\")\n",
        "elif n<0:\n",
        "  print(\"Negative Number\")\n",
        "else:\n",
        "  print(\"Zero\")"
      ],
      "metadata": {
        "colab": {
          "base_uri": "https://localhost:8080/"
        },
        "id": "N1UxRLnsdTnR",
        "outputId": "9d8b9938-72c6-4d92-dfb3-8c588f26ead2"
      },
      "execution_count": 5,
      "outputs": [
        {
          "output_type": "stream",
          "name": "stdout",
          "text": [
            "N: -78\n",
            "Negative Number\n"
          ]
        }
      ]
    }
  ]
}