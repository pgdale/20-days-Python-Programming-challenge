{
  "nbformat": 4,
  "nbformat_minor": 0,
  "metadata": {
    "colab": {
      "provenance": []
    },
    "kernelspec": {
      "name": "python3",
      "display_name": "Python 3"
    },
    "language_info": {
      "name": "python"
    }
  },
  "cells": [
    {
      "cell_type": "markdown",
      "source": [
        "wapp to check if numberf is even or odd"
      ],
      "metadata": {
        "id": "498mRABFUmR8"
      }
    },
    {
      "cell_type": "code",
      "execution_count": null,
      "metadata": {
        "colab": {
          "base_uri": "https://localhost:8080/"
        },
        "id": "5lIZqXOeFQ6A",
        "outputId": "cb4869fe-27a2-4c82-b7a1-d36e75de0502"
      },
      "outputs": [
        {
          "output_type": "stream",
          "name": "stdout",
          "text": [
            "enter a number:20\n",
            "The number is Even.\n"
          ]
        }
      ],
      "source": [
        "n=int(input(\"enter a number:\"))\n",
        "if n % 2 == 0:\n",
        "    print(\"The number is Even.\")\n",
        "else:\n",
        "    print(\"The number is Odd.\")\n"
      ]
    },
    {
      "cell_type": "markdown",
      "source": [
        "WAPP find the largest number among the 3 numbers"
      ],
      "metadata": {
        "id": "Ddm2EEyWUzI5"
      }
    },
    {
      "cell_type": "code",
      "source": [
        "a=int(input(\"Enter a number:\"))\n",
        "b=int(input(\"Enter a number:\"))\n",
        "c=int(input(\"Enter a number:\"))\n",
        "\n",
        "if a>=b and a>=c:\n",
        "    print(a,\"is the largest number\")\n",
        "elif b>=a and b>=c:\n",
        "    print(b,\"is the largest number\")\n",
        "else:\n",
        "    print(c,\"is the largest number\")"
      ],
      "metadata": {
        "colab": {
          "base_uri": "https://localhost:8080/"
        },
        "id": "ZPdaoDf5Fvvn",
        "outputId": "2d15e5a5-7b31-4cdb-a43a-f6b6c3fb9cf0"
      },
      "execution_count": null,
      "outputs": [
        {
          "output_type": "stream",
          "name": "stdout",
          "text": [
            "Enter a number:2\n",
            "Enter a number:3\n",
            "Enter a number:4\n",
            "4 is the largest number\n"
          ]
        }
      ]
    },
    {
      "cell_type": "markdown",
      "source": [
        "wapp to find sum of n natural numbers"
      ],
      "metadata": {
        "id": "wKlcT-NrU9sJ"
      }
    },
    {
      "cell_type": "code",
      "source": [
        "n = int(input(\"Enter a number: \"))\n",
        "sum = 0\n",
        "i = 1\n",
        "while i <= n:\n",
        "    sum = sum + i\n",
        "    i = i + 1\n",
        "print(\"The sum of first\", n, \"natural numbers is:\", sum)\n"
      ],
      "metadata": {
        "id": "TROWbdqsFzgy"
      },
      "execution_count": null,
      "outputs": []
    },
    {
      "cell_type": "markdown",
      "source": [
        "wapp to find multiplcation of tables"
      ],
      "metadata": {
        "id": "KfuFp-WhVElq"
      }
    },
    {
      "cell_type": "code",
      "source": [
        "num = int(input(\"Enter a number: \"))\n",
        "print(\"Multiplication Table of\", num)\n",
        "for i in range(1, 11):\n",
        "    print(num, \"x\", i, \"=\", num * i)\n"
      ],
      "metadata": {
        "colab": {
          "base_uri": "https://localhost:8080/"
        },
        "id": "dn0m0SB4F6Bq",
        "outputId": "c3db18aa-76fa-4d27-8bb1-492e32431178"
      },
      "execution_count": null,
      "outputs": [
        {
          "output_type": "stream",
          "name": "stdout",
          "text": [
            "Enter a number: 4\n",
            "Multiplication Table of 4\n",
            "4 x 1 = 4\n",
            "4 x 2 = 8\n",
            "4 x 3 = 12\n",
            "4 x 4 = 16\n",
            "4 x 5 = 20\n",
            "4 x 6 = 24\n",
            "4 x 7 = 28\n",
            "4 x 8 = 32\n",
            "4 x 9 = 36\n",
            "4 x 10 = 40\n"
          ]
        }
      ]
    },
    {
      "cell_type": "markdown",
      "source": [
        "wapp to check if the numbers prime or not"
      ],
      "metadata": {
        "id": "InZA0CFVVKZi"
      }
    },
    {
      "cell_type": "code",
      "source": [
        "n  = int(input(\"Enter a number: \"))\n",
        "count=0\n",
        "for i in range(1,n+1,1):\n",
        "        if n % i == 0:\n",
        "            count=count+1\n",
        "if count==2:\n",
        "        print(n, \"is a prime number.\")\n",
        "else:\n",
        "    print(n, \"is not a prime number.\")\n"
      ],
      "metadata": {
        "colab": {
          "base_uri": "https://localhost:8080/"
        },
        "id": "OEMRrBzyGVeC",
        "outputId": "80078d34-cb20-4377-ffe3-2b29b0575464"
      },
      "execution_count": null,
      "outputs": [
        {
          "output_type": "stream",
          "name": "stdout",
          "text": [
            "Enter a number: 4\n",
            "4 is not a prime number.\n"
          ]
        }
      ]
    }
  ]
}